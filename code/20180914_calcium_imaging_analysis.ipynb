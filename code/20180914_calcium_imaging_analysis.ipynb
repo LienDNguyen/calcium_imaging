{
 "cells": [
  {
   "cell_type": "markdown",
   "metadata": {},
   "source": [
    "# Overview"
   ]
  },
  {
   "cell_type": "markdown",
   "metadata": {},
   "source": [
    "Functionality implemented so far:\n",
    "1. Read excel files and plot raw traces of graphs\n",
    "2. Find & calculate responding cells `calc_response_rate`\n",
    "3. Graph max utp response for each slide\n",
    "3. Plot average values for control groups vs. L89A overexpressed groups\n",
    "\n",
    "TODO's:\n",
    "** Please open an issue for anything that should be implemented! **"
   ]
  },
  {
   "cell_type": "markdown",
   "metadata": {},
   "source": [
    "# Code"
   ]
  },
  {
   "cell_type": "markdown",
   "metadata": {},
   "source": [
    "## Imports"
   ]
  },
  {
   "cell_type": "code",
   "execution_count": 1,
   "metadata": {},
   "outputs": [],
   "source": [
    "# Import modules for working with excel sheets and for plotting\n",
    "\n",
    "# matplotlib: module for plotting\n",
    "# pandas: module for working with dataframe (can be imported from excel, csv, txt)\n",
    "# %: ipython magic, to plot graphs in line\n",
    "import matplotlib.pyplot as plt\n",
    "import pandas as pd\n",
    "import numpy as np\n",
    "import seaborn as sns\n",
    "import re\n",
    "%matplotlib inline"
   ]
  },
  {
   "cell_type": "code",
   "execution_count": 2,
   "metadata": {},
   "outputs": [],
   "source": [
    "# `PLOT' is a global variable that needs to be set to `True' to actually plot things in this notebook\n",
    "PLOT = True"
   ]
  },
  {
   "cell_type": "markdown",
   "metadata": {},
   "source": [
    "## Load Data\n",
    "\n",
    "The following dataset is NOT on GitHub. Make sure your local directory structure is as follows:\n",
    "\n",
    "                    repository_directory\n",
    "                     /        \\        \\\n",
    "                    /          \\        \\\n",
    "                  code        assets    other files (.gitignore, README.md, LICENSE.txt, ...)\n",
    "                   /            \\\n",
    "                  /              \\\n",
    "    <jupyter_notebook_file>    <data_file>\n",
    "    \n",
    "Also, if you want to use the functions in this script with another dataset, make sure to change `number_of_rows` \n",
    "and the file name in the following import statements."
   ]
  },
  {
   "cell_type": "code",
   "execution_count": 3,
   "metadata": {},
   "outputs": [],
   "source": [
    "# Import excel file as a `pandas.ExcelFile' object (which basically has all sub-sheets in a big container!)\n",
    "# also, only import 1302 rows\n",
    "number_of_rows = 1302\n",
    "ca_data = pd.ExcelFile('../assets/2018September11_23h49min14s_sorted_transformed_data.xlsx', nrows=number_of_rows)"
   ]
  },
  {
   "cell_type": "markdown",
   "metadata": {},
   "source": [
    "## Functions\n",
    "\n",
    "The following functions are used throughout this notebook to analyze and visualize data.\n",
    "The doc-string should provide enough information on how they work. \n",
    "They basically encapsulate commonly used commands to make re-use easier!"
   ]
  },
  {
   "cell_type": "code",
   "execution_count": 4,
   "metadata": {},
   "outputs": [],
   "source": [
    "# plot every single trace after reading subsheets and alphabetically sorting them\n",
    "def plot_traces(df, plot=False):\n",
    "    \"\"\"\n",
    "    this function takes a pandas.io.excel.ExcelFile object and iterates over all sheets\n",
    "    every column of every such sheet is interpreted as a 'trace' and plotted in a line plot\n",
    "    a new line plot is created for every sheet in the pandas.io.excel.ExcelFile object\n",
    "    \n",
    "    ------------------------------\n",
    "    arguments:\n",
    "    df        - input data (pandas.io.excel.ExcelFile)\n",
    "    plot      - defaults to False, if True, plot line plots for every sheet in `df'\n",
    "    \"\"\"\n",
    "    sheetnames = df.sheet_names.copy()\n",
    "    sheetnames.sort()\n",
    "    for sheetname in sheetnames: \n",
    "        temp = pd.read_excel(df, sheetname)\n",
    "        if plot:\n",
    "            temp.plot(title=sheetname, legend=False)"
   ]
  },
  {
   "cell_type": "code",
   "execution_count": 5,
   "metadata": {},
   "outputs": [],
   "source": [
    "# Find percentage of responding cells per slide\n",
    "# Find average according to grouping\n",
    "def calc_response_rate(df, threshold=1.2, utp_range=(40,480), verbose=False, plot=False):\n",
    "    \"\"\"\n",
    "    this function calculates the response rate for calcium imaging data sets\n",
    "    it takes a pandas.io.excel.ExcelFile and iterates over all data sheets and \n",
    "    columns in the input data frames\n",
    "    \n",
    "    ------------------------------\n",
    "    arguments:\n",
    "    df        - input data (pandas.io.excel.ExcelFile)\n",
    "    threshold - defaults to 1.2, the response threshold for your dataset\n",
    "    utp_range - defaults to (40,480), a tuple indicating the range in which to look \n",
    "    verbose   - defaults to False, if True, verbose output is printed (use it to suppress output)\n",
    "    plot      - defaults to False, if True, plot boxplots to visualize computations\n",
    "    \"\"\"\n",
    "    sheetnames = df.sheet_names.copy()\n",
    "    sheetnames.sort()\n",
    "    counter = 0\n",
    "    col_counter = 0\n",
    "    appended_data = []\n",
    "    for sheetname in sheetnames: \n",
    "        #print(\"this is a new sheet: {}\".format(sheetname))\n",
    "        selected_df = pd.read_excel(df, sheetname)[utp_range[0]:utp_range[1]]\n",
    "        selected_df_max = selected_df.max()\n",
    "        \n",
    "        # counter in 1st but not 2nd loop so it's reset to 0 after every sheet but not after every column\n",
    "        counter = 0\n",
    "        col_counter = 0\n",
    "        for idx in selected_df_max.index:\n",
    "            col_counter += 1\n",
    "            if selected_df_max[idx] >= threshold:\n",
    "                pass\n",
    "                # TODO: implement actual functionality\n",
    "                # print(\"current idx: {}\".format(idx))\n",
    "                # print(utp_max[idx])\n",
    "            else:\n",
    "                counter = counter + 1 # shorthand for this is: counter += 1, in cool languages (computer languages): counter++\n",
    "        \n",
    "        d = {'Sheet name':[sheetname], 'Total cells':[col_counter], 'Non-responding': [counter],'Percentage responding': [100-(counter*100/col_counter)]}\n",
    "        data=pd.DataFrame(d)\n",
    "        appended_data.append(data)\n",
    "    appended_data = pd.concat(appended_data,ignore_index=True) \n",
    "    if verbose:\n",
    "        print(appended_data)\n",
    "    if plot:\n",
    "        appended_data.loc[0:5].boxplot()\n",
    "        appended_data.loc[6:12].boxplot()\n",
    "    if verbose:\n",
    "        print('Statistics for control cells')\n",
    "        print(appended_data.loc[0:5].mean())\n",
    "        print('Statistics for L89A cells')\n",
    "        print(appended_data.loc[6:12].mean())"
   ]
  },
  {
   "cell_type": "markdown",
   "metadata": {},
   "source": [
    "## Exploratory Data Analysis (*EDA*)"
   ]
  },
  {
   "cell_type": "code",
   "execution_count": 6,
   "metadata": {},
   "outputs": [],
   "source": [
    "# call the newly created `plot_traces' function (output is suppressed)\n",
    "plot_traces(df=ca_data, plot=False)\n",
    "\n",
    "# call the newly created `calc_response_rate' function (output is suppressed)        \n",
    "calc_response_rate(df=ca_data, threshold=1.2, utp_range=(40, 480), verbose=False, plot=False)"
   ]
  },
  {
   "cell_type": "code",
   "execution_count": 7,
   "metadata": {},
   "outputs": [
    {
     "data": {
      "image/png": "[encoded data removed]",
      "text/plain": [
       "<Figure size 720x720 with 1 Axes>"
      ]
     },
     "metadata": {},
     "output_type": "display_data"
    }
   ],
   "source": [
    "# Find max UTP response for each slide & plot (no threshold so far)\n",
    "d = {}\n",
    "sheetnames = ca_data.sheet_names.copy()\n",
    "sheetnames.sort()\n",
    "for sheetname in sheetnames: \n",
    "    # print(\"Sheet: {}\".format(name))\n",
    "    temp = pd.read_excel(ca_data, sheetname).max()\n",
    "    d[sheetname] = temp\n",
    "    if PLOT:\n",
    "        pd.DataFrame(d).boxplot(figsize=(10,10))"
   ]
  },
  {
   "cell_type": "code",
   "execution_count": 8,
   "metadata": {},
   "outputs": [
    {
     "name": "stdout",
     "output_type": "stream",
     "text": [
      "   Sheet name  Max UTP response\n",
      "0       CTRL1          3.590547\n",
      "1       CTRL2          4.629974\n",
      "2       CTRL3          4.076675\n",
      "3       CTRL4          5.815918\n",
      "4       CTRL5          6.898256\n",
      "5       CTRL6          7.632217\n",
      "6       L89A1          4.220858\n",
      "7       L89A2          4.427743\n",
      "8     L89A2.2          7.094816\n",
      "9       L89A3          6.349200\n",
      "10      L89A4          3.950152\n",
      "11      L89A5          4.209603\n",
      "12      L89A6          5.316882\n",
      "Statistics for control cells\n",
      "Max UTP response    5.810608\n",
      "dtype: float64\n"
     ]
    },
    {
     "data": {
      "image/png": "[encoded data removed]",
      "text/plain": [
       "<Figure size 432x288 with 1 Axes>"
      ]
     },
     "metadata": {},
     "output_type": "display_data"
    }
   ],
   "source": [
    "# Find max UTP response for each group & plot (no threshold so far)\n",
    "sheetnames = ca_data.sheet_names.copy()\n",
    "sheetnames.sort()\n",
    "appended_data = []\n",
    "for sheetname in sheetnames: \n",
    "    temp = pd.read_excel(ca_data, sheetname).max()\n",
    "    d = {'Sheet name':[sheetname], 'Max UTP response':[temp.mean()]}\n",
    "    d_utp_max = pd.DataFrame(d)\n",
    "    # print(d_utp_max)\n",
    "    appended_data.append(d_utp_max)\n",
    "appended_data = pd.concat(appended_data,ignore_index=True) \n",
    "print(appended_data)\n",
    "\n",
    "if PLOT:\n",
    "    appended_data.loc[1:5].boxplot()\n",
    "    print('Statistics for control cells')\n",
    "    print(appended_data.loc[1:5].mean())"
   ]
  },
  {
   "cell_type": "code",
   "execution_count": 9,
   "metadata": {},
   "outputs": [
    {
     "name": "stdout",
     "output_type": "stream",
     "text": [
      "Statistics for L89A cells\n",
      "Max UTP response    4.956459\n",
      "dtype: float64\n"
     ]
    },
    {
     "data": {
      "image/png": "[encoded data removed]",
      "text/plain": [
       "<Figure size 432x288 with 1 Axes>"
      ]
     },
     "metadata": {},
     "output_type": "display_data"
    }
   ],
   "source": [
    "if PLOT:\n",
    "    print('Statistics for L89A cells')\n",
    "    print(appended_data.loc[9:12].mean())\n",
    "    appended_data.loc[9:12].boxplot()"
   ]
  },
  {
   "cell_type": "code",
   "execution_count": 10,
   "metadata": {},
   "outputs": [
    {
     "name": "stdout",
     "output_type": "stream",
     "text": [
      "<_sre.SRE_Match object; span=(0, 5), match='CTRL1'>\n",
      "None\n"
     ]
    }
   ],
   "source": [
    "#(#!/Library/Frameworks/Python.framework/Versions/3.7/bin/python3\n",
    "# this example demonstrates how to use regular\n",
    "# expressions in python\n",
    "import re\n",
    "\n",
    "# Step 1: compile a regular expression and assign it to a variable\n",
    "pattern = re.compile(\"CTRL[0-9]*\")\n",
    "\n",
    "# Step 2: use the `.match' method on the pattern to match the\n",
    "# regex against a string\n",
    "# `None' is returned if no match was found, otherwise a\n",
    "# `match' object is returned\n",
    "# this, the following line of code can be used in an `if' clause\n",
    "print(pattern.match(\"CTRL1\"))  # this should match\n",
    "print(pattern.match(\"CTR\"))  # this should not match)"
   ]
  },
  {
   "cell_type": "code",
   "execution_count": 11,
   "metadata": {},
   "outputs": [
    {
     "name": "stdout",
     "output_type": "stream",
     "text": [
      "<class 'pandas.core.frame.DataFrame'>\n",
      "RangeIndex: 1287 entries, 0 to 1286\n",
      "Columns: 295 entries, R50 W3 Avg to R64 W3 Avg\n",
      "dtypes: float64(295)\n",
      "memory usage: 2.9 MB\n",
      "None\n",
      "<class 'pandas.core.frame.DataFrame'>\n",
      "RangeIndex: 1255 entries, 0 to 1254\n",
      "Columns: 342 entries, R47 W3 Avg to R23 W3 Avg\n",
      "dtypes: float64(342)\n",
      "memory usage: 3.3 MB\n",
      "None\n"
     ]
    },
    {
     "data": {
      "image/png": "[encoded data removed]",
      "text/plain": [
       "<Figure size 432x288 with 1 Axes>"
      ]
     },
     "metadata": {},
     "output_type": "display_data"
    }
   ],
   "source": [
    "#Find and combine sheets of the same categories\n",
    "\n",
    "d = {}\n",
    "sheetnames = ca_data.sheet_names.copy()\n",
    "sheetnames.sort()\n",
    "df_control = pd.DataFrame() #Assign to empty dataframe\n",
    "df_l89a = pd.DataFrame()\n",
    "\n",
    "# Step 1: compile a regular expression and assign it to a variable\n",
    "pattern_control = re.compile(\"CTRL[0-9]*\")\n",
    "for sheetname in sheetnames:\n",
    "    #print(pattern_control.match(sheetname))\n",
    "    if pattern_control.match(sheetname):\n",
    "        select_control = pd.read_excel(ca_data, sheetname)\n",
    "        df_control = pd.concat([df_control, select_control],axis=1)\n",
    "        \n",
    "    else:\n",
    "        select_l89a = pd.read_excel(ca_data, sheetname)\n",
    "        df_l89a = pd.concat([df_l89a, select_l89a],axis=1)\n",
    "print(df_control.info())\n",
    "print(df_l89a.info())\n",
    "\n",
    "if PLOT:\n",
    "    pd.DataFrame(df_control.max()).boxplot()"
   ]
  },
  {
   "cell_type": "code",
   "execution_count": 12,
   "metadata": {},
   "outputs": [
    {
     "data": {
      "image/png": "[encoded data removed]",
      "text/plain": [
       "<Figure size 432x288 with 1 Axes>"
      ]
     },
     "metadata": {},
     "output_type": "display_data"
    }
   ],
   "source": [
    "if PLOT:\n",
    "    pd.DataFrame(df_l89a.max()).boxplot()"
   ]
  },
  {
   "cell_type": "code",
   "execution_count": null,
   "metadata": {},
   "outputs": [],
   "source": []
  },
  {
   "cell_type": "code",
   "execution_count": 29,
   "metadata": {},
   "outputs": [
    {
     "data": {
      "image/png": "[encoded data removed]",
      "text/plain": [
       "<Figure size 432x288 with 1 Axes>"
      ]
     },
     "metadata": {},
     "output_type": "display_data"
    },
    {
     "name": "stdout",
     "output_type": "stream",
     "text": [
      "Area under the curve is: [161650.5]\n"
     ]
    }
   ],
   "source": [
    "#Find area under the curve\n",
    "#Draw a quadratic curve\n",
    "a=[]\n",
    "b=[]\n",
    "# y=0\n",
    "# x=-50\n",
    "\n",
    "for x in range(-50,50,1):\n",
    "    y=x**2+2*x+2\n",
    "    a.append(x)\n",
    "    b.append(y)\n",
    "    #x= x+1\n",
    "\n",
    "fig= plt.figure()\n",
    "axes=fig.add_subplot(111)\n",
    "axes.plot(a,b)\n",
    "plt.show()\n",
    "\n",
    "#Find area under the curve ysing trapezoid rule\n",
    "import numpy as np\n",
    "from scipy.integrate import simps\n",
    "from numpy import trapz\n",
    "\n",
    "auc = np.trapz([a],[b])\n",
    "print(\"Area under the curve is:\",auc)\n"
   ]
  },
  {
   "cell_type": "code",
   "execution_count": null,
   "metadata": {},
   "outputs": [],
   "source": []
  }
 ],
 "metadata": {
  "kernelspec": {
   "display_name": "Python 3",
   "language": "python",
   "name": "python3"
  },
  "language_info": {
   "codemirror_mode": {
    "name": "ipython",
    "version": 3
   },
   "file_extension": ".py",
   "mimetype": "text/x-python",
   "name": "python",
   "nbconvert_exporter": "python",
   "pygments_lexer": "ipython3",
   "version": "3.6.5"
  }
 },
 "nbformat": 4,
 "nbformat_minor": 2
}
