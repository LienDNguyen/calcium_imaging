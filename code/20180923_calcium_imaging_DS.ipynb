{
 "cells": [
  {
   "cell_type": "markdown",
   "metadata": {},
   "source": [
    "# Overview"
   ]
  },
  {
   "cell_type": "markdown",
   "metadata": {},
   "source": [
    "Functionality implemented so far:\n",
    "1. Read excel files and plot raw traces of graphs `plot_traces`\n",
    "2. Find & calculate responding cells & make a new dataframe for values that pass threshold `calc_response_rate`\n",
    "3. Graph max utp response for each slide `max_amp_plot`\n",
    "4. Statistical significance: p-value and effect size `stats.ttest_ind` and `cohen_d`\n",
    "5. Plot average values for control groups vs. L89A overexpressed groups `average_plot`\n",
    "\n",
    "TODO's:\n",
    "** Please open an issue for anything that should be implemented! **"
   ]
  },
  {
   "cell_type": "markdown",
   "metadata": {},
   "source": [
    "# Code"
   ]
  },
  {
   "cell_type": "markdown",
   "metadata": {},
   "source": [
    "## Imports"
   ]
  },
  {
   "cell_type": "code",
   "execution_count": 1,
   "metadata": {},
   "outputs": [],
   "source": [
    "# Import modules for working with excel sheets and for plotting\n",
    "\n",
    "# matplotlib: module for plotting\n",
    "# pandas: module for working with dataframe (can be imported from excel, csv, txt)\n",
    "# %: ipython magic, to plot graphs in line\n",
    "import matplotlib.pyplot as plt\n",
    "import pandas as pd\n",
    "import numpy as np\n",
    "import seaborn as sns\n",
    "import re\n",
    "from scipy import stats\n",
    "%matplotlib inline"
   ]
  },
  {
   "cell_type": "code",
   "execution_count": 2,
   "metadata": {},
   "outputs": [],
   "source": [
    "# `PLOT' is a global variable that needs to be set to `True' to actually plot things in this notebook\n",
    "PLOT = True"
   ]
  },
  {
   "cell_type": "markdown",
   "metadata": {},
   "source": [
    "## Load Data\n",
    "\n",
    "The following dataset is NOT on GitHub. Make sure your local directory structure is as follows:\n",
    "\n",
    "                    repository_directory\n",
    "                     /        \\        \\\n",
    "                    /          \\        \\\n",
    "                  code        assets    other files (.gitignore, README.md, LICENSE.txt, ...)\n",
    "                   /            \\\n",
    "                  /              \\\n",
    "    <jupyter_notebook_file>    <data_file>\n",
    "    \n",
    "Also, if you want to use the functions in this script with another dataset, make sure to change `number_of_rows` \n",
    "and the file name in the following import statements."
   ]
  },
  {
   "cell_type": "code",
   "execution_count": 3,
   "metadata": {},
   "outputs": [],
   "source": [
    "# Import excel file as a `pandas.ExcelFile' object (which basically has all sub-sheets in a big container!)\n",
    "# also, only import 1302 rows\n",
    "number_of_rows = 1302\n",
    "ca_data = pd.ExcelFile('../assets/2018-09-15 stable MB231 WT L89A 3 uM UTP Ca2+ free sorted.xlsx', nrows=number_of_rows)"
   ]
  },
  {
   "cell_type": "markdown",
   "metadata": {},
   "source": [
    "## Functions\n",
    "\n",
    "The following functions are used throughout this notebook to analyze and visualize data.\n",
    "The doc-string should provide enough information on how they work. \n",
    "They basically encapsulate commonly used commands to make re-use easier!"
   ]
  },
  {
   "cell_type": "code",
   "execution_count": 4,
   "metadata": {},
   "outputs": [],
   "source": [
    "# plot every single trace after reading subsheets and alphabetically sorting them\n",
    "def plot_traces(df, plot=True):\n",
    "    \"\"\"\n",
    "    this function takes a pandas.io.excel.ExcelFile object and iterates over all sheets\n",
    "    every column of every such sheet is interpreted as a 'trace' and plotted in a line plot\n",
    "    a new line plot is created for every sheet in the pandas.io.excel.ExcelFile object\n",
    "    \n",
    "    -------------------------a-----\n",
    "    arguments:\n",
    "    df        - input data (pandas.io.excel.ExcelFile)\n",
    "    plot      - defaults to False, if True, plot line plots for every sheet in `df'\n",
    "    \"\"\"\n",
    "    sheetnames = df.sheet_names.copy()\n",
    "    sheetnames.sort()\n",
    "    for sheetname in sheetnames: \n",
    "        temp = pd.read_excel(df, sheetname)\n",
    "        if plot:\n",
    "            temp.plot(title=sheetname, legend=False)"
   ]
  },
  {
   "cell_type": "code",
   "execution_count": 5,
   "metadata": {},
   "outputs": [],
   "source": [
    "# Find percentage of responding cells per slide and create a new dataframe for values that pass threshold\n",
    "# Find average according to grouping\n",
    "def calc_response_rate(df, threshold=1.2, utp_range=(40,480), verbose=False, plot=False):\n",
    "    \"\"\"\n",
    "    this function calculates the response rate for calcium imaging data sets\n",
    "    it takes a pandas.io.excel.ExcelFile and iterates over all data sheets and \n",
    "    columns in the input data frames to find the max value within the UTP range\n",
    "    the max value is then compared with a threshold, if max value >= threshold, then the column is copied to a new data frame\n",
    "    if value < threshold, value is not coppied to the new dataframe\n",
    "    return a new data frame is created for each cell types only with columns of data the pass the threshold\n",
    "    \n",
    "    ------------------------------\n",
    "    arguments:\n",
    "    df        - input data (pandas.io.excel.ExcelFile)\n",
    "    threshold - defaults to 1.2, the response threshold for your dataset\n",
    "    utp_range - defaults to (40,480), a tuple indicating the range in which to look \n",
    "    verbose   - defaults to False, if True, verbose output is printed (use it to suppress output)\n",
    "    plot      - defaults to False, if True, plot boxplots to visualize computations\n",
    "    \"\"\"\n",
    "    sheetnames = df.sheet_names.copy()\n",
    "    sheetnames.sort()\n",
    "    counter = 0\n",
    "    col_counter = 0\n",
    "    appended_data = []\n",
    "    filtered_data = pd.DataFrame()\n",
    "    for sheetname in sheetnames: \n",
    "        #print(\"this is a new sheet: {}\".format(sheetname))\n",
    "        selected_df = pd.read_excel(df, sheetname)[utp_range[0]:utp_range[1]]\n",
    "        complete_df = pd.read_excel(df, sheetname)\n",
    "        selected_df_max = selected_df.max()\n",
    "        \n",
    "        # counter in 1st but not 2nd loop so it's reset to 0 after every sheet but not after every column\n",
    "        counter = 0\n",
    "        col_counter = 0\n",
    "        for idx in selected_df_max.index:\n",
    "            col_counter += 1\n",
    "            if selected_df_max[idx] >= threshold:\n",
    "                new_col_name = sheetname + idx\n",
    "                temp = {new_col_name: complete_df[idx]} \n",
    "                filtered_data = pd.concat([filtered_data, pd.DataFrame(temp)], axis=1)\n",
    "            else:\n",
    "                counter = counter + 1 # shorthand for this is: counter += 1, in cool languages (computer languages): counter++\n",
    "        \n",
    "        d = {'Sheet name':[sheetname], 'Total cells':[col_counter], 'Non-responding': [counter],'Percentage responding': [100-(counter*100/col_counter)]}\n",
    "        data=pd.DataFrame(d)\n",
    "        appended_data.append(data)\n",
    "    \n",
    "    appended_data = pd.concat(appended_data,ignore_index=True) \n",
    "    if verbose:\n",
    "        print('Statistics for control cells')\n",
    "        print(appended_data.loc[0:5].mean())\n",
    "        print('Statistics for L89A cells')\n",
    "        print(appended_data.loc[6:12].mean())\n",
    "        \n",
    "# return should be the last line of the function, because then the function stops/ returns\n",
    "    return filtered_data\n"
   ]
  },
  {
   "cell_type": "markdown",
   "metadata": {},
   "source": [
    "## Exploratory Data Analysis (*EDA*)"
   ]
  },
  {
   "cell_type": "code",
   "execution_count": 6,
   "metadata": {
    "scrolled": false
   },
   "outputs": [
    {
     "name": "stdout",
     "output_type": "stream",
     "text": [
      "Statistics for control cells\n",
      "Total cells              43.666667\n",
      "Non-responding           10.166667\n",
      "Percentage responding    76.685655\n",
      "dtype: float64\n",
      "Statistics for L89A cells\n",
      "Total cells              38.333333\n",
      "Non-responding            6.666667\n",
      "Percentage responding    83.486712\n",
      "dtype: float64\n"
     ]
    }
   ],
   "source": [
    "# call the newly created `plot_traces' function (output is suppressed)\n",
    "plot_traces(df=ca_data, plot=False)\n",
    "\n",
    "# call the newly created `calc_response_rate' function (output is suppressed)  \n",
    "filtered_data = calc_response_rate(df=ca_data, threshold=1.1, utp_range=(40, 480), verbose=True, plot=False)"
   ]
  },
  {
   "cell_type": "code",
   "execution_count": 7,
   "metadata": {},
   "outputs": [],
   "source": [
    "#step 1: Make a new empty dataframe outside the for loop\n",
    "#step 2: To get desired column, [idx] --> type of a panda series\n",
    "#step 3: 1st reinteration, concatenate new data frame \n",
    "#step 4: concatenate with next dataframe\n",
    "\n",
    "\n",
    "\n",
    "def combined_data(df):\n",
    "    \"\"\"\n",
    "    this function combines data from different \n",
    "    coverslips of the same cell type \n",
    "    into 1 data frame using regular expression\n",
    "    \n",
    "    ------------------------------\n",
    "    arguments:\n",
    "    df        - filtered data from `ca_response_rate` function\n",
    "    \"\"\"\n",
    "    column_names = df.columns\n",
    "    ctrl_data = pd.DataFrame()\n",
    "    l89a_data = pd.DataFrame()\n",
    "\n",
    "    #print(column_names)\n",
    "    pattern = re.compile(\"CTRL.*\")\n",
    "    for column_name in column_names:\n",
    "        if pattern.match(column_name):\n",
    "            temp1 = {column_name: filtered_data[column_name]}\n",
    "            ctrl_data = pd.concat([ctrl_data, pd.DataFrame(temp1)], axis=1)\n",
    "        else:\n",
    "            temp2 = {column_name: filtered_data[column_name]}\n",
    "            l89a_data = pd.concat([l89a_data, pd.DataFrame(temp2)], axis=1)\n",
    "        \n",
    "    return ctrl_data, l89a_data\n",
    "            "
   ]
  },
  {
   "cell_type": "code",
   "execution_count": 8,
   "metadata": {},
   "outputs": [],
   "source": [
    "ctrl_data, l89a_data = combined_data(df=filtered_data)"
   ]
  },
  {
   "cell_type": "code",
   "execution_count": 9,
   "metadata": {},
   "outputs": [],
   "source": [
    "def max_amp_plot(df, utp_range=(40, 480), title='none'):\n",
    "    \"\"\"\n",
    "    document me!\n",
    "    \"\"\"\n",
    "    column_names = df.columns\n",
    "    d = {}\n",
    "    for column_name in column_names: \n",
    "        df_max = df.iloc[utp_range[0]:utp_range[1], :].max()\n",
    "        df_max.plot.box(title=title) \n",
    "        \n",
    "    return df_max\n",
    "\n",
    "      "
   ]
  },
  {
   "cell_type": "code",
   "execution_count": 10,
   "metadata": {},
   "outputs": [
    {
     "data": {
      "image/png": "[encoded data removed]",
      "text/plain": [
       "<Figure size 432x288 with 1 Axes>"
      ]
     },
     "metadata": {},
     "output_type": "display_data"
    }
   ],
   "source": [
    "ctrl_max = max_amp_plot(df=ctrl_data, utp_range=(40, 480), title='Control')\n",
    "\n",
    "\n",
    "#def max_amp_plot(df, col_names, utp_range=(40, 480), title):\n",
    "#calc_response_rate(df=ca_data, threshold=1.2, utp_range=(40, 480), verbose=True, plot=True)"
   ]
  },
  {
   "cell_type": "code",
   "execution_count": 11,
   "metadata": {},
   "outputs": [
    {
     "data": {
      "image/png": "[encoded data removed]",
      "text/plain": [
       "<Figure size 432x288 with 1 Axes>"
      ]
     },
     "metadata": {},
     "output_type": "display_data"
    }
   ],
   "source": [
    "l89a_max = max_amp_plot(df=l89a_data, utp_range=(40, 480), title='L89A')"
   ]
  },
  {
   "cell_type": "code",
   "execution_count": 12,
   "metadata": {},
   "outputs": [
    {
     "name": "stdout",
     "output_type": "stream",
     "text": [
      "Ttest_indResult(statistic=6.312261869708858, pvalue=7.503398705037498e-10)\n"
     ]
    }
   ],
   "source": [
    "##scipy.stats.ttest_ind(a, b, axis=0, equal_var=True, nan_policy='propagate')[source]\n",
    "print(stats.ttest_ind(a=ctrl_max, b=l89a_max))"
   ]
  },
  {
   "cell_type": "code",
   "execution_count": 13,
   "metadata": {},
   "outputs": [],
   "source": [
    "#correct if the population S.D. is expected to be equal for the two groups.\n",
    "def cohen_d(x,y):\n",
    "    nx = len(x)\n",
    "    ny = len(y)\n",
    "    dof = nx + ny - 2\n",
    "    return (np.mean(x) - np.mean(y)) / np.sqrt(((nx-1)*np.std(x, ddof=1) ** 2 + (ny-1)*np.std(y, ddof=1) ** 2) / dof)"
   ]
  },
  {
   "cell_type": "code",
   "execution_count": 14,
   "metadata": {},
   "outputs": [
    {
     "name": "stdout",
     "output_type": "stream",
     "text": [
      "0.638702413381654\n"
     ]
    }
   ],
   "source": [
    "effect_size = cohen_d(x=ctrl_max, y=l89a_max)\n",
    "print(effect_size)\n",
    "\n",
    "#ctrl_max = max_amp_plot(df=ctrl_data, col_names=column_names, utp_range=(40, 480), title='Control')"
   ]
  },
  {
   "cell_type": "code",
   "execution_count": 15,
   "metadata": {},
   "outputs": [],
   "source": [
    "def average_plot(df, title='none', legend=True, label='labels'):\n",
    "    \"\"\"\n",
    "    document me!\n",
    "    \"\"\"\n",
    "    df_mean = df.mean(axis=1)\n",
    "    ax = df_mean.plot(title=title)\n",
    "    ax.legend(labels=[label])"
   ]
  },
  {
   "cell_type": "code",
   "execution_count": 16,
   "metadata": {},
   "outputs": [
    {
     "name": "stdout",
     "output_type": "stream",
     "text": [
      "['CTRL', 'L89A']\n"
     ]
    },
    {
     "data": {
      "image/png": "[encoded data removed]",
      "text/plain": [
       "<Figure size 432x288 with 1 Axes>"
      ]
     },
     "metadata": {},
     "output_type": "display_data"
    }
   ],
   "source": [
    "#average_plot(ctrl_data)\n",
    "label=['CTRL','L89A']\n",
    "print(label)\n",
    "average_plot(df=ctrl_data,title='CTRL vs. L89A MB231 cells, 10 uM UTP, Ca2+ free', legend=True)\n",
    "average_plot(df=l89a_data,title='CTRL vs. L89A MB231 cells, 10 uM UTP, Ca2+ free', legend=True, label=[label])"
   ]
  },
  {
   "cell_type": "code",
   "execution_count": 17,
   "metadata": {},
   "outputs": [
    {
     "data": {
      "image/png": "[encoded data removed]",
      "text/plain": [
       "<Figure size 432x288 with 1 Axes>"
      ]
     },
     "metadata": {},
     "output_type": "display_data"
    }
   ],
   "source": [
    "#Create a column of time\n",
    "time = pd.DataFrame({'Time (s)': np.linspace(0,299.75,1200)})\n",
    "ctrl_data_mean = ctrl_data.mean(axis=1)\n",
    "l89a_data_mean = l89a_data.mean(axis=1)\n",
    "fig, ax = plt.subplots()\n",
    "ax.set_xlabel('Time (s)')\n",
    "ax.set_ylabel('F/F0')\n",
    "ax.set_title('CTRL vs. L89A MB231 cells, 3 uM UTP, Ca2+ free')\n",
    "ax.plot(time, l89a_data_mean, '-b', label='L89A')\n",
    "ax.plot(time, ctrl_data_mean, '-k', label='CTRL')\n",
    "leg = ax.legend();"
   ]
  },
  {
   "cell_type": "code",
   "execution_count": 18,
   "metadata": {},
   "outputs": [],
   "source": [
    "# first, a new data frame is create with just two columns:\n",
    "#\n",
    "#    | time | F/F0 | genotype |\n",
    "#    | ---- | ---- | -------- |\n",
    "#    | 0.25 | 1.13 | CTRL     |\n",
    "#    | 0.5  | 1.08 | CTRL     |\n",
    "#    | ...  | ...  | ...      |\n",
    "#\n",
    "# this data frame holds data from `time', `ctrl_data_mean', `l89a_data_mean'\n",
    "ctrl_labels = [\"CTRL\" for i in ctrl_data_mean]\n",
    "l89a_labels = [\"L89K\" for i in l89a_data_mean]\n",
    "_ctrl_tmp = pd.DataFrame({\"F/F0\": ctrl_data_mean, \"genotype\": ctrl_labels})\n",
    "_l89a_tmp = pd.DataFrame({\"F/F0\": l89a_data_mean, \"genotype\": l89a_labels})\n",
    "\n",
    "ctrl_w_time = pd.concat([time, _ctrl_tmp], axis=1)\n",
    "l89a_w_time = pd.concat([time, _l89a_tmp], axis=1)\n",
    "mean_data_all = pd.concat([ctrl_w_time, l89a_w_time])"
   ]
  },
  {
   "cell_type": "code",
   "execution_count": 19,
   "metadata": {},
   "outputs": [
    {
     "data": {
      "text/plain": [
       "'0.9.0'"
      ]
     },
     "execution_count": 19,
     "metadata": {},
     "output_type": "execute_result"
    }
   ],
   "source": [
    "sns.__version__"
   ]
  },
  {
   "cell_type": "code",
   "execution_count": 20,
   "metadata": {},
   "outputs": [
    {
     "data": {
      "image/png": "[encoded data removed]",
      "text/plain": [
       "<Figure size 432x288 with 1 Axes>"
      ]
     },
     "metadata": {},
     "output_type": "display_data"
    }
   ],
   "source": [
    "# second, the new object is plotted with seaborn's `catplot' function\n",
    "sns.lineplot(x=\"Time (s)\", y=\"F/F0\", hue=\"genotype\", data=mean_data_all,\n",
    "             err_style=\"bars\", ci=99);"
   ]
  },
  {
   "cell_type": "code",
   "execution_count": null,
   "metadata": {},
   "outputs": [],
   "source": []
  },
  {
   "cell_type": "code",
   "execution_count": null,
   "metadata": {},
   "outputs": [],
   "source": []
  }
 ],
 "metadata": {
  "kernelspec": {
   "display_name": "Python 3",
   "language": "python",
   "name": "python3"
  },
  "language_info": {
   "codemirror_mode": {
    "name": "ipython",
    "version": 3
   },
   "file_extension": ".py",
   "mimetype": "text/x-python",
   "name": "python",
   "nbconvert_exporter": "python",
   "pygments_lexer": "ipython3",
   "version": "3.6.5"
  }
 },
 "nbformat": 4,
 "nbformat_minor": 2
}
