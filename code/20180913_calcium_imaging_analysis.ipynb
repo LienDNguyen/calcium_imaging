{
 "cells": [
  {
   "cell_type": "markdown",
   "metadata": {},
   "source": [
    "# Overview"
   ]
  },
  {
   "cell_type": "markdown",
   "metadata": {},
   "source": [
    "Functionality implemented so far:\n",
    "1. Read excel files and plot raw traces of graphs\n",
    "2. Find & calculate responding cells `calc_response_rate`\n",
    "3. Graph max utp response for each slide\n",
    "3. Plot average values for control groups vs. L89A overexpressed groups\n",
    "\n",
    "TODO's:\n",
    "** Please open an issue for anything that should be implemented! **"
   ]
  },
  {
   "cell_type": "markdown",
   "metadata": {},
   "source": [
    "# Code"
   ]
  },
  {
   "cell_type": "markdown",
   "metadata": {},
   "source": [
    "## Imports"
   ]
  },
  {
   "cell_type": "code",
   "execution_count": 3,
   "metadata": {},
   "outputs": [],
   "source": [
    "# Import modules for working with excel sheets and for plotting\n",
    "\n",
    "# matplotlib: module for plotting\n",
    "# pandas: module for working with dataframe (can be imported from excel, csv, txt)\n",
    "# %: ipython magic, to plot graphs in line\n",
    "import matplotlib.pyplot as plt\n",
    "import pandas as pd\n",
    "import numpy as np\n",
    "%matplotlib inline"
   ]
  },
  {
   "cell_type": "code",
   "execution_count": 7,
   "metadata": {},
   "outputs": [],
   "source": [
    "# `PLOT' is a global variable that needs to be set to `True' to actually plot things in this notebook\n",
    "PLOT = False"
   ]
  },
  {
   "cell_type": "markdown",
   "metadata": {},
   "source": [
    "## Exploratory Data Analysis (*EDA*)"
   ]
  },
  {
   "cell_type": "code",
   "execution_count": 8,
   "metadata": {
    "scrolled": false
   },
   "outputs": [],
   "source": [
    "# First look at data, plot every single trace\n",
    "# Import excel file, read and sort subsheets alphabetically, import 1302 rows\n",
    "number_of_rows = 1302\n",
    "ca_data = pd.ExcelFile('../assets/2018September11_23h49min14s_sorted_transformed_data.xlsx', nrows=number_of_rows)\n",
    "\n",
    "# Sort sheetname alphabetically, plot data with sheetnames\n",
    "sheetnames = ca_data.sheet_names.copy()\n",
    "sheetnames.sort()\n",
    "for sheetname in sheetnames: \n",
    "    temp = pd.read_excel(ca_data, sheetname)\n",
    "    if PLOT:\n",
    "        temp.plot(title=sheetname, legend=False)"
   ]
  },
  {
   "cell_type": "code",
   "execution_count": 9,
   "metadata": {},
   "outputs": [],
   "source": [
    "#Find percentage of responding cells per slide\n",
    "#Find average according to grouping\n",
    "\n",
    "def calc_response_rate(df, threshold=1.2, utp_range=(40,480), verbose=False):\n",
    "    \"\"\"\n",
    "    this function calculates the response rate for calcium imaging data sets\n",
    "    it takes a pandas.io.excel.ExcelFile and iterates over all data sheets and \n",
    "    columns in the input data frames\n",
    "    \n",
    "    ------------------------------\n",
    "    arguments:\n",
    "    df        - input data\n",
    "    threshold - defaults to 1.2, the response threshold for your dataset\n",
    "    utp_range - defaults to (40,480), a tuple indicating the range in which to look \n",
    "    verbose   - defaults to False, if True, verbose output is printed (use it to suppress output)\n",
    "    \"\"\"\n",
    "    sheetnames = df.sheet_names.copy()\n",
    "    sheetnames.sort()\n",
    "    counter = 0\n",
    "    col_counter = 0\n",
    "    appended_data = []\n",
    "    for sheetname in sheetnames: \n",
    "        #print(\"this is a new sheet: {}\".format(sheetname))\n",
    "        selected_df = pd.read_excel(df, sheetname)[utp_range[0]:utp_range[1]]\n",
    "        selected_df_max = selected_df.max()\n",
    "        \n",
    "        # counter in 1st but not 2nd loop so it's reset to 0 after every sheet but not after every column\n",
    "        counter = 0\n",
    "        col_counter = 0\n",
    "        for idx in selected_df_max.index:\n",
    "            col_counter += 1\n",
    "            if selected_df_max[idx] >= threshold:\n",
    "                pass\n",
    "                # TODO: implement actual functionality\n",
    "                # print(\"current idx: {}\".format(idx))\n",
    "                # print(utp_max[idx])\n",
    "            else:\n",
    "                counter = counter + 1 # shorthand for this is: counter += 1, in cool languages (computer languages): counter++\n",
    "        \n",
    "        d = {'Sheet name':[sheetname], 'Total cells':[col_counter], 'Non-responding': [counter],'Percentage responding': [100-(counter*100/col_counter)]}\n",
    "        data=pd.DataFrame(d)\n",
    "        appended_data.append(data)\n",
    "    appended_data = pd.concat(appended_data,ignore_index=True) \n",
    "    if verbose:\n",
    "        print(appended_data)\n",
    "    if PLOT:\n",
    "        appended_data.loc[0:5].boxplot()\n",
    "        appended_data.loc[6:12].boxplot()\n",
    "    if verbose:\n",
    "        print('Statistics for control cells')\n",
    "        print(appended_data.loc[0:5].mean())\n",
    "        print('Statistics for L89A cells')\n",
    "        print(appended_data.loc[6:12].mean())\n",
    "        \n",
    "# call the newly created `calc_response_rate' function (output is suppressed)        \n",
    "calc_response_rate(ca_data, threshold=1.2, utp_range=(40, 480), verbose=False)"
   ]
  },
  {
   "cell_type": "code",
   "execution_count": 10,
   "metadata": {},
   "outputs": [],
   "source": [
    "# Find max UTP response for each slide & plot (no threshold so far)\n",
    "d = {}\n",
    "sheetnames = ca_data.sheet_names.copy()\n",
    "sheetnames.sort()\n",
    "for sheetname in sheetnames: \n",
    "    # print(\"Sheet: {}\".format(name))\n",
    "    temp = pd.read_excel(ca_data, sheetname).max()\n",
    "    d[sheetname] = temp\n",
    "    if PLOT:\n",
    "        pd.DataFrame(d).boxplot(figsize=(10,10))"
   ]
  },
  {
   "cell_type": "code",
   "execution_count": 11,
   "metadata": {},
   "outputs": [
    {
     "name": "stdout",
     "output_type": "stream",
     "text": [
      "   Sheet name  Max UTP response\n",
      "0       CTRL1          3.590547\n",
      "1       CTRL2          4.629974\n",
      "2       CTRL3          4.076675\n",
      "3       CTRL4          5.815918\n",
      "4       CTRL5          6.898256\n",
      "5       CTRL6          7.632217\n",
      "6       L89A1          4.220858\n",
      "7       L89A2          4.427743\n",
      "8     L89A2.2          7.094816\n",
      "9       L89A3          6.349200\n",
      "10      L89A4          3.950152\n",
      "11      L89A5          4.209603\n",
      "12      L89A6          5.316882\n"
     ]
    }
   ],
   "source": [
    "# Find max UTP response for each group & plot (no threshold so far)\n",
    "sheetnames = ca_data.sheet_names.copy()\n",
    "sheetnames.sort()\n",
    "appended_data = []\n",
    "for sheetname in sheetnames: \n",
    "    temp = pd.read_excel(ca_data, sheetname).max()\n",
    "    d = {'Sheet name':[sheetname], 'Max UTP response':[temp.mean()]}\n",
    "    d_utp_max = pd.DataFrame(d)\n",
    "    # print(d_utp_max)\n",
    "    appended_data.append(d_utp_max)\n",
    "appended_data = pd.concat(appended_data,ignore_index=True) \n",
    "print(appended_data)\n",
    "\n",
    "if PLOT:\n",
    "    appended_data.loc[1:5].boxplot()\n",
    "    print('Statistics for control cells')\n",
    "    print(appended_data.loc[1:5].mean())"
   ]
  },
  {
   "cell_type": "code",
   "execution_count": 12,
   "metadata": {},
   "outputs": [],
   "source": [
    "if PLOT:\n",
    "    print('Statistics for L89A cells')\n",
    "    print(appended_data.loc[9:12].mean())\n",
    "    appended_data.loc[9:12].boxplot()"
   ]
  }
 ],
 "metadata": {
  "kernelspec": {
   "display_name": "Python 3",
   "language": "python",
   "name": "python3"
  },
  "language_info": {
   "codemirror_mode": {
    "name": "ipython",
    "version": 3
   },
   "file_extension": ".py",
   "mimetype": "text/x-python",
   "name": "python",
   "nbconvert_exporter": "python",
   "pygments_lexer": "ipython3",
   "version": "3.7.0"
  }
 },
 "nbformat": 4,
 "nbformat_minor": 2
}
