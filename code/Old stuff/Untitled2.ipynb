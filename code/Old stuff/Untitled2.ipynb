{
 "cells": [
  {
   "cell_type": "code",
   "execution_count": 1,
   "metadata": {},
   "outputs": [],
   "source": [
    "import matplotlib.pyplot as plt\n",
    "import pandas as pd\n",
    "import numpy as np\n",
    "from scipy.integrate import simps\n",
    "from numpy import trapz\n",
    "import seaborn as sns\n",
    "import re\n",
    "from scipy import stats\n",
    "%matplotlib inline"
   ]
  },
  {
   "cell_type": "code",
   "execution_count": 2,
   "metadata": {},
   "outputs": [],
   "source": [
    "# Import excel file as a `pandas.ExcelFile' object (which basically has all sub-sheets in a big container!)\n",
    "# also, only import 1302 rows\n",
    "number_of_rows = 2100\n",
    "data = pd.ExcelFile('../assets/2018_12_03_singe_trace_test.xlsx', nrows=number_of_rows)"
   ]
  },
  {
   "cell_type": "code",
   "execution_count": 38,
   "metadata": {},
   "outputs": [
    {
     "ename": "SyntaxError",
     "evalue": "invalid syntax (<ipython-input-38-0bed5ffcff0b>, line 9)",
     "output_type": "error",
     "traceback": [
      "\u001b[1;36m  File \u001b[1;32m\"<ipython-input-38-0bed5ffcff0b>\"\u001b[1;36m, line \u001b[1;32m9\u001b[0m\n\u001b[1;33m    i = [0 : 500]\u001b[0m\n\u001b[1;37m           ^\u001b[0m\n\u001b[1;31mSyntaxError\u001b[0m\u001b[1;31m:\u001b[0m invalid syntax\n"
     ]
    }
   ],
   "source": [
    "ca_data = data.parse(\"Sheet1\")\n",
    "#Select just the range of appropriate UTP response\n",
    "ca_data_UTP = ca_data.loc[40:600]\n",
    "#print(ca_data_UTP)\n",
    "\n",
    "gradient = pd.DataFrame()\n",
    "\n",
    "for i, row in ca_data_UTP.iterrows():\n",
    "    temp1 = ca_data_UTP['CTRL1R1'].iloc[i]\n",
    "    temp2 = ca_data_UTP['CTRL1R1'].iloc[i + 4]\n",
    "\n",
    "\n"
   ]
  },
  {
   "cell_type": "markdown",
   "metadata": {},
   "source": [
    "column_names = ca_data_UTP.columns\n",
    "area = pd.DataFrame()\n",
    "for column_name in column_names:\n",
    "    temp1 = {column_name: ca_data_UTP[column_name]}\n",
    "    temp2 = temp1[column_name] -1 #subtract value by 1 to get rid of baseline problem\n",
    "    y = np.array(temp2)\n",
    "    area_temp = trapz(y)\n",
    "    if area_temp > 0: #remove negative area values\n",
    "        temp3 = pd.DataFrame([column_name],[area_temp])\n",
    "        area = pd.concat([area, temp3], axis=0)\n",
    "area = area.reset_index()   \n",
    "area.columns = ['Area', 'Cell type']"
   ]
  }
 ],
 "metadata": {
  "kernelspec": {
   "display_name": "Python 3",
   "language": "python",
   "name": "python3"
  },
  "language_info": {
   "codemirror_mode": {
    "name": "ipython",
    "version": 3
   },
   "file_extension": ".py",
   "mimetype": "text/x-python",
   "name": "python",
   "nbconvert_exporter": "python",
   "pygments_lexer": "ipython3",
   "version": "3.6.5"
  }
 },
 "nbformat": 4,
 "nbformat_minor": 2
}
