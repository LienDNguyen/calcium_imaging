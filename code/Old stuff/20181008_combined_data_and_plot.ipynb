{
 "cells": [
  {
   "cell_type": "markdown",
   "metadata": {},
   "source": [
    "## Imports"
   ]
  },
  {
   "cell_type": "code",
   "execution_count": 16,
   "metadata": {},
   "outputs": [],
   "source": [
    "# Import modules for working with excel sheets and for plotting\n",
    "\n",
    "# matplotlib: module for plotting\n",
    "# pandas: module for working with dataframe (can be imported from excel, csv, txt)\n",
    "# %: ipython magic, to plot graphs in line\n",
    "import matplotlib.pyplot as plt\n",
    "import pandas as pd\n",
    "import numpy as np\n",
    "import seaborn as sns\n",
    "import re\n",
    "from scipy import stats\n",
    "%matplotlib inline"
   ]
  },
  {
   "cell_type": "code",
   "execution_count": 17,
   "metadata": {},
   "outputs": [
    {
     "data": {
      "image/png": "[encoded data removed]",
      "text/plain": [
       "<Figure size 432x288 with 1 Axes>"
      ]
     },
     "metadata": {},
     "output_type": "display_data"
    }
   ],
   "source": [
    "temp = pd.ExcelFile('../assets/combined_response.xlsx')\n",
    "combined_response = temp.parse(\"Sheet1\")\n",
    "ax2 = sns.barplot(x = 'Genotype', data=combined_response, y=\"Percentage responding\", ci=95,  order = [\"CTRL\", \"WTOE\", \"L89A\", \"L89K\", \"KO\", \"E120Q\"]).set_title('Percentage of cells responding')\n",
    "fig = ax2.get_figure()\n",
    "fig.savefig(\"All response\")"
   ]
  },
  {
   "cell_type": "code",
   "execution_count": 18,
   "metadata": {},
   "outputs": [],
   "source": [
    "# `PLOT' is a global variable that needs to be set to `True' to actually plot things in this notebook\n",
    "PLOT = True"
   ]
  },
  {
   "cell_type": "code",
   "execution_count": 19,
   "metadata": {},
   "outputs": [
    {
     "data": {
      "image/png": "[encoded data removed]",
      "text/plain": [
       "<Figure size 432x288 with 1 Axes>"
      ]
     },
     "metadata": {},
     "output_type": "display_data"
    }
   ],
   "source": [
    "amp = pd.ExcelFile('../assets/max_amplitude.xlsx')\n",
    "amplitude = amp.parse(\"Sheet1\")\n",
    "ax = sns.barplot(x = 'Genotype', data=amplitude, y=\"Max amplitude\", ci=95, order = [\"CTRL\", \"WTOE\", \"L89A\", \"L89K\", \"E120Q\", \"KO\"]).set_title('Maximum UTP amplitude')\n",
    "fig = ax.get_figure()\n",
    "fig.savefig(\"Max amplitude\")"
   ]
  },
  {
   "cell_type": "markdown",
   "metadata": {},
   "source": [
    "## Load Data\n",
    "\n",
    "The following dataset is NOT on GitHub. Make sure your local directory structure is as follows:\n",
    "\n",
    "                    repository_directory\n",
    "                     /        \\        \\\n",
    "                    /          \\        \\\n",
    "                  code        assets    other files (.gitignore, README.md, LICENSE.txt, ...)\n",
    "                   /            \\\n",
    "                  /              \\\n",
    "    <jupyter_notebook_file>    <data_file>\n",
    "    \n",
    "Also, if you want to use the functions in this script with another dataset, make sure to change `number_of_rows` \n",
    "and the file name in the following import statements."
   ]
  },
  {
   "cell_type": "code",
   "execution_count": 20,
   "metadata": {},
   "outputs": [],
   "source": [
    "# Import excel file as a `pandas.ExcelFile' object (which basically has all sub-sheets in a big container!)\n",
    "# also, only import 1302 rows\n",
    "#ca_data1 = pd.ExcelFile('../assets/to_combine/CTRL_L89A.xlsx')\n",
    "#ca_data2 = pd.ExcelFile('../assets/to_combine/CTRL_WT.xlsx')\n",
    "#ca_data3 = pd.ExcelFile('../assets/to_combine/CTRL_E120Q.xlsx')\n",
    "ca_data4 = pd.ExcelFile('../assets/to_combine/2018_11_30_MB231_CTRL_L89K_3_um_Ca_free_part_tidy.xlsx')\n",
    "ca_data5 = pd.ExcelFile('../assets/to_combine/2018_12_03_MB231_CTRL_L89A_L89K_KO_L89A_3_um_Ca_free_part.xlsx')"
   ]
  },
  {
   "cell_type": "code",
   "execution_count": 21,
   "metadata": {},
   "outputs": [],
   "source": [
    "ca_data_14 = ca_data4.parse(\"Sheet1\")\n",
    "ca_data_15 = ca_data5.parse(\"Sheet1\")\n",
    "data_after_nov = ca_data_14.append(ca_data_15)\n",
    "writer = pd.ExcelWriter('data_after_nov.xlsx', engine='xlsxwriter')\n",
    "data_after_nov.to_excel(writer, sheet_name='Sheet1')\n",
    "writer.save()"
   ]
  },
  {
   "cell_type": "code",
   "execution_count": 22,
   "metadata": {},
   "outputs": [],
   "source": [
    "ca_data_11 = ca_data1.parse(\"Sheet1\")\n",
    "ca_data_12 = ca_data2.parse(\"Sheet1\")\n",
    "ca_data_13 = ca_data3.parse(\"Sheet1\")\n",
    "#ca_data_14 = ca_data4.parse(\"Sheet1\")\n",
    "#ca_data_15 = ca_data5.parse(\"Sheet1\")\n",
    "temp1 = ca_data_11.append(ca_data_12)\n",
    "data_before_nov = temp1.append(ca_data_13)\n",
    "#temp2 = temp1.append(ca_data_13)\n",
    "#temp3 = temp2.append(ca_data_14)\n",
    "#combine_ca_data = temp3.append(ca_data_15)"
   ]
  },
  {
   "cell_type": "code",
   "execution_count": null,
   "metadata": {},
   "outputs": [],
   "source": [
    "writer = pd.ExcelWriter('data_before_nov.xlsx', engine='xlsxwriter')\n",
    "data_before_nov.to_excel(writer, sheet_name='Sheet1')\n",
    "writer.save()"
   ]
  },
  {
   "cell_type": "code",
   "execution_count": 8,
   "metadata": {},
   "outputs": [
    {
     "ename": "NameError",
     "evalue": "name 'combine_ca_data' is not defined",
     "output_type": "error",
     "traceback": [
      "\u001b[1;31m---------------------------------------------------------------------------\u001b[0m",
      "\u001b[1;31mNameError\u001b[0m                                 Traceback (most recent call last)",
      "\u001b[1;32m<ipython-input-8-cf3c0924716c>\u001b[0m in \u001b[0;36m<module>\u001b[1;34m()\u001b[0m\n\u001b[1;32m----> 1\u001b[1;33m \u001b[0max\u001b[0m \u001b[1;33m=\u001b[0m \u001b[0msns\u001b[0m\u001b[1;33m.\u001b[0m\u001b[0mlineplot\u001b[0m\u001b[1;33m(\u001b[0m\u001b[0mx\u001b[0m\u001b[1;33m=\u001b[0m\u001b[1;34m\"Time (s)\"\u001b[0m\u001b[1;33m,\u001b[0m \u001b[0my\u001b[0m\u001b[1;33m=\u001b[0m\u001b[1;34m\"F/Fo\"\u001b[0m\u001b[1;33m,\u001b[0m \u001b[0mhue\u001b[0m\u001b[1;33m=\u001b[0m\u001b[1;34m\"Genotype\"\u001b[0m\u001b[1;33m,\u001b[0m \u001b[0mci\u001b[0m\u001b[1;33m=\u001b[0m\u001b[1;36m95\u001b[0m\u001b[1;33m,\u001b[0m \u001b[0mdata\u001b[0m\u001b[1;33m=\u001b[0m\u001b[0mcombine_ca_data\u001b[0m\u001b[1;33m,\u001b[0m \u001b[0mhue_order\u001b[0m \u001b[1;33m=\u001b[0m \u001b[1;33m[\u001b[0m\u001b[1;34m\"CTRL\"\u001b[0m\u001b[1;33m,\u001b[0m \u001b[1;34m\"WTOE\"\u001b[0m\u001b[1;33m,\u001b[0m \u001b[1;34m\"L89A\"\u001b[0m\u001b[1;33m,\u001b[0m \u001b[1;34m\"L89K\"\u001b[0m\u001b[1;33m,\u001b[0m \u001b[1;34m\"E120Q\"\u001b[0m\u001b[1;33m,\u001b[0m \u001b[1;34m\"KO\"\u001b[0m\u001b[1;33m]\u001b[0m\u001b[1;33m)\u001b[0m\u001b[1;33m.\u001b[0m\u001b[0mset_title\u001b[0m\u001b[1;33m(\u001b[0m\u001b[1;34m'3 uM UTP, Ca2+ free'\u001b[0m\u001b[1;33m)\u001b[0m\u001b[1;33m\u001b[0m\u001b[0m\n\u001b[0m\u001b[0;32m      2\u001b[0m \u001b[0mfig\u001b[0m \u001b[1;33m=\u001b[0m \u001b[0max\u001b[0m\u001b[1;33m.\u001b[0m\u001b[0mget_figure\u001b[0m\u001b[1;33m(\u001b[0m\u001b[1;33m)\u001b[0m\u001b[1;33m\u001b[0m\u001b[0m\n\u001b[0;32m      3\u001b[0m \u001b[0mfig\u001b[0m\u001b[1;33m.\u001b[0m\u001b[0msavefig\u001b[0m\u001b[1;33m(\u001b[0m\u001b[1;34m\"Combined\"\u001b[0m\u001b[1;33m)\u001b[0m\u001b[1;33m\u001b[0m\u001b[0m\n\u001b[0;32m      4\u001b[0m \u001b[0mplt\u001b[0m\u001b[1;33m.\u001b[0m\u001b[0mxlim\u001b[0m\u001b[1;33m(\u001b[0m\u001b[1;36m0\u001b[0m\u001b[1;33m,\u001b[0m \u001b[1;36m120\u001b[0m\u001b[1;33m)\u001b[0m\u001b[1;33m\u001b[0m\u001b[0m\n\u001b[0;32m      5\u001b[0m \u001b[0mplt\u001b[0m\u001b[1;33m.\u001b[0m\u001b[0mylim\u001b[0m\u001b[1;33m(\u001b[0m\u001b[1;36m0.8\u001b[0m\u001b[1;33m,\u001b[0m \u001b[1;36m3.5\u001b[0m\u001b[1;33m)\u001b[0m\u001b[1;33m\u001b[0m\u001b[0m\n",
      "\u001b[1;31mNameError\u001b[0m: name 'combine_ca_data' is not defined"
     ]
    }
   ],
   "source": [
    "ax = sns.lineplot(x=\"Time (s)\", y=\"F/Fo\", hue=\"Genotype\", ci=95, data=combine_ca_data, hue_order = [\"CTRL\", \"WTOE\", \"L89A\", \"L89K\", \"E120Q\", \"KO\"]).set_title('3 uM UTP, Ca2+ free')\n",
    "fig = ax.get_figure()\n",
    "fig.savefig(\"Combined\")\n",
    "plt.xlim(0, 120)\n",
    "plt.ylim(0.8, 3.5)\n",
    "plt.show()\n",
    "fig = ax.get_figure()\n",
    "fig.savefig(\"Combined\")"
   ]
  },
  {
   "cell_type": "code",
   "execution_count": null,
   "metadata": {},
   "outputs": [],
   "source": []
  }
 ],
 "metadata": {
  "kernelspec": {
   "display_name": "Python 3",
   "language": "python",
   "name": "python3"
  },
  "language_info": {
   "codemirror_mode": {
    "name": "ipython",
    "version": 3
   },
   "file_extension": ".py",
   "mimetype": "text/x-python",
   "name": "python",
   "nbconvert_exporter": "python",
   "pygments_lexer": "ipython3",
   "version": "3.6.5"
  }
 },
 "nbformat": 4,
 "nbformat_minor": 2
}
