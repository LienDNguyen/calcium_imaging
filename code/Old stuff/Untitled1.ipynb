{
 "cells": [
  {
   "cell_type": "code",
   "execution_count": 1,
   "metadata": {},
   "outputs": [
    {
     "name": "stdout",
     "output_type": "stream",
     "text": [
      "rof\n"
     ]
    },
    {
     "data": {
      "text/plain": [
       "120.0"
      ]
     },
     "execution_count": 1,
     "metadata": {},
     "output_type": "execute_result"
    }
   ],
   "source": [
    "import pandas as pd\n",
    "\n",
    "import ca_img_analyzer.rate_of_rise as ror\n",
    "import ca_img_analyzer.stats as stats\n",
    "\n",
    "# create an example data frame\n",
    "d = {\"example\": [1, 2, 3, 4, 5, 4, 3, 2, 1]}\n",
    "df = pd.DataFrame(d)\n",
    "\n",
    "# use example functions\n",
    "ror.greetings()\n",
    "stats.auc(df=df, column=\"example\", rule=\"simpson\")"
   ]
  }
 ],
 "metadata": {
  "kernelspec": {
   "display_name": "Python 2",
   "language": "python",
   "name": "python2"
  },
  "language_info": {
   "codemirror_mode": {
    "name": "ipython",
    "version": 2
   },
   "file_extension": ".py",
   "mimetype": "text/x-python",
   "name": "python",
   "nbconvert_exporter": "python",
   "pygments_lexer": "ipython2",
   "version": "2.7.13"
  }
 },
 "nbformat": 4,
 "nbformat_minor": 2
}
