{
 "cells": [
  {
   "cell_type": "code",
   "execution_count": 1,
   "metadata": {},
   "outputs": [],
   "source": [
    "import matplotlib.pyplot as plt\n",
    "import pandas as pd\n",
    "import numpy as np\n",
    "from scipy.integrate import simps\n",
    "from numpy import trapz\n",
    "import seaborn as sns\n",
    "import re\n",
    "from scipy import stats\n",
    "%matplotlib inline"
   ]
  },
  {
   "cell_type": "code",
   "execution_count": 2,
   "metadata": {},
   "outputs": [],
   "source": [
    "# Import excel file as a `pandas.ExcelFile' object (which basically has all sub-sheets in a big container!)\n",
    "# also, only import 1302 rows\n",
    "number_of_rows = 2100\n",
    "data = pd.ExcelFile('../assets/to_combine/2018_12_03_MB231_CTRL_L89A_L89K_KO_L89A_3_um_Ca_free_filtered_data.xlsx', nrows=number_of_rows)"
   ]
  },
  {
   "cell_type": "markdown",
   "metadata": {},
   "source": [
    "# Find area under the curve"
   ]
  },
  {
   "cell_type": "code",
   "execution_count": 7,
   "metadata": {
    "scrolled": true
   },
   "outputs": [
    {
     "name": "stdout",
     "output_type": "stream",
     "text": [
      "Index(['CTRL1R3', 'CTRL1R15', 'CTRL1R42', 'CTRL1R13', 'CTRL1R30', 'CTRL1R38',\n",
      "       'CTRL1R43', 'CTRL1R20', 'CTRL1R6', 'CTRL1R21',\n",
      "       ...\n",
      "       'L89K6R28', 'L89K6R46', 'L89K6R6', 'L89K6R24', 'L89K6R43', 'L89K6R13',\n",
      "       'L89K6R5', 'L89K6R54', 'L89K6R48', 'L89K6R35'],\n",
      "      dtype='object', length=643)\n"
     ]
    }
   ],
   "source": [
    "ca_data = data.parse(\"Sheet1\")\n",
    "#Select just the range of appropriate UTP response\n",
    "ca_data_UTP = ca_data.loc[40:600]\n",
    "column_names = ca_data_UTP.columns\n",
    "print(column_names)\n",
    "area = pd.DataFrame()\n",
    "for column_name in column_names:\n",
    "    temp1 = {column_name: ca_data_UTP[column_name]}\n",
    "    temp2 = temp1[column_name] -1 #subtract value by 1 to get rid of baseline problem\n",
    "    y = np.array(temp2)\n",
    "    area_temp = trapz(y)\n",
    "    if area_temp > 0: #remove negative area values\n",
    "        temp3 = pd.DataFrame([column_name],[area_temp])\n",
    "        area = pd.concat([area, temp3], axis=0)\n",
    "area = area.reset_index()   \n",
    "area.columns = ['Area', 'Cell type']"
   ]
  },
  {
   "cell_type": "code",
   "execution_count": 4,
   "metadata": {},
   "outputs": [],
   "source": [
    "pattern_ctrl = re.compile(\"CTRL.*\")\n",
    "pattern_l89a = re.compile(\"L89A.*\")\n",
    "pattern_l89k = re.compile(\"L89K.*\")\n",
    "pattern_wtoe = re.compile(\"WTOE.*\")\n",
    "pattern_e120q = re.compile(\"E120Q.*\")\n",
    "pattern_knot = re.compile(\"KO.*\")\n",
    "\n",
    "ctrl = pd.DataFrame()\n",
    "l89 = pd.DataFrame()\n",
    "cell_name = pd.DataFrame()\n",
    "\n",
    "for i, row in area.iterrows():\n",
    "    temp1 =str(row[\"Cell type\"])\n",
    "    if pattern_ctrl.match(temp1):\n",
    "        temp2 = pd.DataFrame(['CTRL'])\n",
    "        cell_name = pd.concat([cell_name, temp2], axis=0)\n",
    "    if pattern_l89a.match(temp1):\n",
    "        temp3 = pd.DataFrame(['L89A'])\n",
    "        cell_name = pd.concat([cell_name, temp3], axis=0, ignore_index=True)\n",
    "area = pd.concat([area, cell_name], axis=1, ignore_index=True)\n",
    "area.columns = ['Area', 'Cell identifier', 'Cell type']"
   ]
  },
  {
   "cell_type": "code",
   "execution_count": 8,
   "metadata": {},
   "outputs": [
    {
     "data": {
      "image/png": "[encoded data removed]",
      "text/plain": [
       "<Figure size 432x288 with 1 Axes>"
      ]
     },
     "metadata": {},
     "output_type": "display_data"
    }
   ],
   "source": [
    "ax2 = sns.barplot(x = 'Cell type', data=area, y=\"Area\", ci=95,  order = [\"CTRL\", \"WTOE\", \"L89A\",'K89K', \"KO\"]).set_title('Area under the curve')\n"
   ]
  },
  {
   "cell_type": "code",
   "execution_count": null,
   "metadata": {},
   "outputs": [],
   "source": []
  },
  {
   "cell_type": "code",
   "execution_count": null,
   "metadata": {},
   "outputs": [],
   "source": []
  }
 ],
 "metadata": {
  "kernelspec": {
   "display_name": "Python 3",
   "language": "python",
   "name": "python3"
  },
  "language_info": {
   "codemirror_mode": {
    "name": "ipython",
    "version": 3
   },
   "file_extension": ".py",
   "mimetype": "text/x-python",
   "name": "python",
   "nbconvert_exporter": "python",
   "pygments_lexer": "ipython3",
   "version": "3.6.5"
  }
 },
 "nbformat": 4,
 "nbformat_minor": 2
}
